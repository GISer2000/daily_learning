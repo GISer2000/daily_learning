{
 "cells": [
  {
   "cell_type": "markdown",
   "id": "ee18fd0e-30ef-450a-8902-0832ef85053d",
   "metadata": {},
   "source": [
    "# <center>遥感影像主成分分析</center>"
   ]
  },
  {
   "cell_type": "code",
   "execution_count": 1,
   "id": "374995ad-173d-400d-a5d1-980ad7565401",
   "metadata": {
    "execution": {
     "iopub.execute_input": "2024-04-19T06:54:07.526535Z",
     "iopub.status.busy": "2024-04-19T06:54:07.526262Z",
     "iopub.status.idle": "2024-04-19T06:54:08.589111Z",
     "shell.execute_reply": "2024-04-19T06:54:08.589111Z",
     "shell.execute_reply.started": "2024-04-19T06:54:07.526535Z"
    }
   },
   "outputs": [],
   "source": [
    "from osgeo import gdal\n",
    "import rasterio\n",
    "from sklearn.decomposition import PCA\n",
    "\n",
    "import numpy as np\n",
    "import pandas as pd"
   ]
  },
  {
   "cell_type": "markdown",
   "id": "0d0520d6-b1bf-4811-a182-5302d4a5d018",
   "metadata": {},
   "source": [
    "## 定义函数"
   ]
  },
  {
   "cell_type": "code",
   "execution_count": 2,
   "id": "be1db667-c132-453a-955a-a6c1aa4c514c",
   "metadata": {
    "execution": {
     "iopub.execute_input": "2024-04-19T06:54:08.591371Z",
     "iopub.status.busy": "2024-04-19T06:54:08.590301Z",
     "iopub.status.idle": "2024-04-19T06:54:08.604932Z",
     "shell.execute_reply": "2024-04-19T06:54:08.604932Z",
     "shell.execute_reply.started": "2024-04-19T06:54:08.591371Z"
    }
   },
   "outputs": [],
   "source": [
    "def tif_bands(image_path):\n",
    "    \"\"\"\n",
    "    计算指定TIFF文件中的波段数量。\n",
    "    :param image_path: TIFF文件的路径。\n",
    "    :return: 波段数量（整数）。\n",
    "    \"\"\"\n",
    "    with rasterio.open(image_path) as src:\n",
    "        num_bands = src.count\n",
    "    print(num_bands)\n",
    "\n",
    "def changeDtype(path, outpath):\n",
    "    \"\"\"\n",
    "    改变影像的数据类型\n",
    "    :param path: 影像的路径\n",
    "    :param outpath: 改变后影像的输出路径\n",
    "    :return: outpath\n",
    "    \"\"\"\n",
    "    src = rasterio.open(path)\n",
    "    profile = src.profile.copy()\n",
    "    profile['dtype'] = 'float64'\n",
    "    data = src.read().astype('float64')\n",
    "    with rasterio.open(outpath, mode='w', **profile) as dst:\n",
    "        dst.write(data)\n",
    "    src.close()\n",
    "    return outpath\n",
    "\n",
    "def print_band_dtypes(path):\n",
    "    \"\"\"\n",
    "    打印影像各波段的数据类型\n",
    "    :param path: 影像的路径\n",
    "    \"\"\"\n",
    "    with rasterio.open(path) as src:\n",
    "        for band_idx in range(1, src.count + 1):\n",
    "            band_data = src.read(indexes=band_idx)\n",
    "            band_dtype = band_data.dtype.name\n",
    "            print(f\"Band {band_idx}: Data Type - {band_dtype}\")\n",
    "\n",
    "def perform_pca_per_band(tif_path, n_components=1):\n",
    "    \"\"\"\n",
    "    对给定的多波段 TIFF 文件中每个波段进行独立的主成分分析（PCA），并返回每个波段的前 n_components 个主成分的特征值和贡献率。\n",
    "\n",
    "    :param tif_path: 多波段 TIFF 文件路径\n",
    "    :param n_components: 要计算的主成分数量，默认为 1\n",
    "    :return: 字典，键为波段索引，值为该波段的特征值列表和贡献率列表\n",
    "    \"\"\"\n",
    "    results = {}\n",
    "\n",
    "    with rasterio.open(tif_path) as src:\n",
    "        bands_data = src.read()\n",
    "        # 获取每个波段的数据\n",
    "        for band_index in range(src.count):\n",
    "            band_data = bands_data[band_index,:,:]\n",
    "\n",
    "            # 确保数据为浮点类型（假设已经转换过数据类型）\n",
    "            assert band_data.dtype == np.float64, f\"数据应已转换为float64 类型 (波段{band_index})\"\n",
    "\n",
    "            # 展平波段数据为一维数组\n",
    "            band_data = band_data.flatten()\n",
    "\n",
    "            # 掩膜掉 nan 值（如果存在）\n",
    "            band_data = band_data[~np.isnan(band_data)]\n",
    "\n",
    "            # 执行 PCA\n",
    "            pca = PCA(n_components=n_components)\n",
    "            pca.fit(band_data.reshape(-1, 1))\n",
    "\n",
    "            # 存储特征值和贡献率\n",
    "            results[band_index] = {\n",
    "                'eigenvalues': pca.explained_variance_,\n",
    "                'variance_ratios': pca.explained_variance_ratio_\n",
    "            }\n",
    "    return results\n",
    "\n",
    "def perform_pca_per_band(tif_path, n_components=4, drop_nans=True):\n",
    "    \"\"\"\n",
    "    对给定的多波段 TIFF 文件中所有波段进行合并，然后进行主成分分析（PCA），并返回前 n_components 个主成分的特征值和贡献率，以及对应各主成分的原始指标的权重（或称为载荷系数）\n",
    "    :param tif_path: 多波段 TIFF 文件路径\n",
    "    :param n_components: 要计算的主成分数量，默认为 4\n",
    "    :return: 特征值、贡献率以及个指标（波段）对应各主成分的原始指标的权重（或称为载荷系数）\n",
    "    \"\"\"\n",
    "    try:\n",
    "        # 读取数据\n",
    "        with rasterio.open(tif_path) as src:\n",
    "            bands_data = src.read()\n",
    "\n",
    "            # 确保数据为浮点类型（假设已经转换过数据类型）\n",
    "            assert bands_data.dtype == np.float64, \"数据应已转换为float64 类型\"\n",
    "            \n",
    "            # 缺失值处理\n",
    "            if drop_nans:\n",
    "                panel_data = np.concatenate([bands_data[i, :, :].flatten().reshape(-1, 1) for i in range(bands_data.shape[0])], axis=1)\n",
    "                mask = np.isnan(panel_data).any(axis=1)\n",
    "                merged_data = panel_data[~mask, :]\n",
    "            else:\n",
    "                # 合并波段并替换 NaN 值为 0\n",
    "                merged_data = np.concatenate([np.nan_to_num(bands_data[i, :, :].flatten().reshape(-1, 1)) for i in range(bands_data.shape[0])], axis=1)\n",
    "\n",
    "            # 主成分分析\n",
    "            pca = PCA(n_components)\n",
    "            pca_data = pca.fit_transform(merged_data)\n",
    "\n",
    "            # 获取结果\n",
    "            variance_ratio = pd.DataFrame(data={'variance_ratio': pca.explained_variance_ratio_,\n",
    "                                                'variance': pca.explained_variance_})\n",
    "            component_matrix = pd.DataFrame(pca.components_, columns=[f\"PC{i+1}\" for i in range(n_components)],\n",
    "                                            index=range(len(pca.components_)))\n",
    "\n",
    "            return variance_ratio, component_matrix\n",
    "\n",
    "    except FileNotFoundError as fnfe:\n",
    "        raise FileNotFoundError(f\"未找到文件: {tif_path}. {fnfe}\")\n",
    "    except rasterio.errors.RasterioError as re:\n",
    "        raise IOError(f\"打开或读取 TIFF 文件失败: {tif_path}. {re}\")"
   ]
  },
  {
   "cell_type": "markdown",
   "id": "9451a5a6-1e6f-45be-8611-9b56d5dc5afe",
   "metadata": {},
   "source": [
    "## 打印波段数"
   ]
  },
  {
   "cell_type": "code",
   "execution_count": 3,
   "id": "b493ead3-cf0b-4bb3-bd63-42edbdbbefa6",
   "metadata": {
    "execution": {
     "iopub.execute_input": "2024-04-19T06:54:08.607490Z",
     "iopub.status.busy": "2024-04-19T06:54:08.606397Z",
     "iopub.status.idle": "2024-04-19T06:54:08.637594Z",
     "shell.execute_reply": "2024-04-19T06:54:08.636109Z",
     "shell.execute_reply.started": "2024-04-19T06:54:08.607490Z"
    }
   },
   "outputs": [
    {
     "name": "stdout",
     "output_type": "stream",
     "text": [
      "4\n"
     ]
    }
   ],
   "source": [
    "image_path = \"data/tif/resi.tif\"\n",
    "tif_bands(image_path)"
   ]
  },
  {
   "cell_type": "markdown",
   "id": "249107a8-ceb3-4f41-b246-2a69a7723ee9",
   "metadata": {},
   "source": [
    "## 数值类型转换"
   ]
  },
  {
   "cell_type": "code",
   "execution_count": 4,
   "id": "561be3cd-f749-433b-b50c-52c36e793beb",
   "metadata": {
    "execution": {
     "iopub.execute_input": "2024-04-19T06:54:08.640093Z",
     "iopub.status.busy": "2024-04-19T06:54:08.638593Z",
     "iopub.status.idle": "2024-04-19T06:54:09.057068Z",
     "shell.execute_reply": "2024-04-19T06:54:09.057068Z",
     "shell.execute_reply.started": "2024-04-19T06:54:08.639590Z"
    }
   },
   "outputs": [
    {
     "data": {
      "text/plain": [
       "'data/tif/resi_float.tif'"
      ]
     },
     "execution_count": 4,
     "metadata": {},
     "output_type": "execute_result"
    }
   ],
   "source": [
    "changeDtype('data/tif/resi.tif','data/tif/resi_float.tif')"
   ]
  },
  {
   "cell_type": "markdown",
   "id": "5d060fae-dc5b-44e6-bd38-1fc9f290a3ca",
   "metadata": {},
   "source": [
    "## 查看各波段数值类型"
   ]
  },
  {
   "cell_type": "code",
   "execution_count": 5,
   "id": "86568d45-c23a-4bc1-bae7-44e0c0dd7eec",
   "metadata": {
    "execution": {
     "iopub.execute_input": "2024-04-19T06:54:09.058161Z",
     "iopub.status.busy": "2024-04-19T06:54:09.058161Z",
     "iopub.status.idle": "2024-04-19T06:54:09.308155Z",
     "shell.execute_reply": "2024-04-19T06:54:09.308155Z",
     "shell.execute_reply.started": "2024-04-19T06:54:09.058161Z"
    }
   },
   "outputs": [
    {
     "name": "stdout",
     "output_type": "stream",
     "text": [
      "Band 1: Data Type - float64\n",
      "Band 2: Data Type - float64\n",
      "Band 3: Data Type - float64\n",
      "Band 4: Data Type - float64\n"
     ]
    }
   ],
   "source": [
    "print_band_dtypes('data/tif/resi_float.tif')"
   ]
  },
  {
   "cell_type": "markdown",
   "id": "08fb8a65-6eef-4d3e-99ae-6033b12b84de",
   "metadata": {},
   "source": [
    "## 主成分分析"
   ]
  },
  {
   "cell_type": "code",
   "execution_count": 6,
   "id": "ed468cd0-abdc-4087-8456-186a52b1e8b3",
   "metadata": {
    "execution": {
     "iopub.execute_input": "2024-04-19T06:54:09.310284Z",
     "iopub.status.busy": "2024-04-19T06:54:09.310284Z",
     "iopub.status.idle": "2024-04-19T06:54:10.151581Z",
     "shell.execute_reply": "2024-04-19T06:54:10.150589Z",
     "shell.execute_reply.started": "2024-04-19T06:54:09.310284Z"
    }
   },
   "outputs": [],
   "source": [
    "result, component_matrix = perform_pca_per_band('data/tif/resi_float.tif')"
   ]
  },
  {
   "cell_type": "code",
   "execution_count": 7,
   "id": "e3d4f9e3-e4bf-4beb-897c-3cee96fdb812",
   "metadata": {
    "execution": {
     "iopub.execute_input": "2024-04-19T06:54:10.152578Z",
     "iopub.status.busy": "2024-04-19T06:54:10.151581Z",
     "iopub.status.idle": "2024-04-19T06:54:10.167611Z",
     "shell.execute_reply": "2024-04-19T06:54:10.166612Z",
     "shell.execute_reply.started": "2024-04-19T06:54:10.152578Z"
    }
   },
   "outputs": [
    {
     "data": {
      "text/html": [
       "<div>\n",
       "<style scoped>\n",
       "    .dataframe tbody tr th:only-of-type {\n",
       "        vertical-align: middle;\n",
       "    }\n",
       "\n",
       "    .dataframe tbody tr th {\n",
       "        vertical-align: top;\n",
       "    }\n",
       "\n",
       "    .dataframe thead th {\n",
       "        text-align: right;\n",
       "    }\n",
       "</style>\n",
       "<table border=\"1\" class=\"dataframe\">\n",
       "  <thead>\n",
       "    <tr style=\"text-align: right;\">\n",
       "      <th></th>\n",
       "      <th>variance_ratio</th>\n",
       "      <th>variance</th>\n",
       "    </tr>\n",
       "  </thead>\n",
       "  <tbody>\n",
       "    <tr>\n",
       "      <th>0</th>\n",
       "      <td>0.798909</td>\n",
       "      <td>0.031343</td>\n",
       "    </tr>\n",
       "    <tr>\n",
       "      <th>1</th>\n",
       "      <td>0.173561</td>\n",
       "      <td>0.006809</td>\n",
       "    </tr>\n",
       "    <tr>\n",
       "      <th>2</th>\n",
       "      <td>0.027350</td>\n",
       "      <td>0.001073</td>\n",
       "    </tr>\n",
       "    <tr>\n",
       "      <th>3</th>\n",
       "      <td>0.000180</td>\n",
       "      <td>0.000007</td>\n",
       "    </tr>\n",
       "  </tbody>\n",
       "</table>\n",
       "</div>"
      ],
      "text/plain": [
       "   variance_ratio  variance\n",
       "0        0.798909  0.031343\n",
       "1        0.173561  0.006809\n",
       "2        0.027350  0.001073\n",
       "3        0.000180  0.000007"
      ]
     },
     "execution_count": 7,
     "metadata": {},
     "output_type": "execute_result"
    }
   ],
   "source": [
    "result"
   ]
  },
  {
   "cell_type": "code",
   "execution_count": 8,
   "id": "c6885bcd-058b-4f92-bae4-f9dc99f90762",
   "metadata": {
    "execution": {
     "iopub.execute_input": "2024-04-19T06:54:10.168608Z",
     "iopub.status.busy": "2024-04-19T06:54:10.168608Z",
     "iopub.status.idle": "2024-04-19T06:54:10.183559Z",
     "shell.execute_reply": "2024-04-19T06:54:10.182376Z",
     "shell.execute_reply.started": "2024-04-19T06:54:10.168608Z"
    }
   },
   "outputs": [
    {
     "data": {
      "text/html": [
       "<div>\n",
       "<style scoped>\n",
       "    .dataframe tbody tr th:only-of-type {\n",
       "        vertical-align: middle;\n",
       "    }\n",
       "\n",
       "    .dataframe tbody tr th {\n",
       "        vertical-align: top;\n",
       "    }\n",
       "\n",
       "    .dataframe thead th {\n",
       "        text-align: right;\n",
       "    }\n",
       "</style>\n",
       "<table border=\"1\" class=\"dataframe\">\n",
       "  <thead>\n",
       "    <tr style=\"text-align: right;\">\n",
       "      <th></th>\n",
       "      <th>PC1</th>\n",
       "      <th>PC2</th>\n",
       "      <th>PC3</th>\n",
       "      <th>PC4</th>\n",
       "    </tr>\n",
       "  </thead>\n",
       "  <tbody>\n",
       "    <tr>\n",
       "      <th>0</th>\n",
       "      <td>-0.998320</td>\n",
       "      <td>0.028712</td>\n",
       "      <td>0.019752</td>\n",
       "      <td>-0.046295</td>\n",
       "    </tr>\n",
       "    <tr>\n",
       "      <th>1</th>\n",
       "      <td>0.051232</td>\n",
       "      <td>0.246891</td>\n",
       "      <td>-0.036035</td>\n",
       "      <td>-0.967017</td>\n",
       "    </tr>\n",
       "    <tr>\n",
       "      <th>2</th>\n",
       "      <td>-0.013778</td>\n",
       "      <td>-0.961297</td>\n",
       "      <td>0.114073</td>\n",
       "      <td>-0.250412</td>\n",
       "    </tr>\n",
       "    <tr>\n",
       "      <th>3</th>\n",
       "      <td>-0.023309</td>\n",
       "      <td>-0.118865</td>\n",
       "      <td>-0.992622</td>\n",
       "      <td>0.005407</td>\n",
       "    </tr>\n",
       "  </tbody>\n",
       "</table>\n",
       "</div>"
      ],
      "text/plain": [
       "        PC1       PC2       PC3       PC4\n",
       "0 -0.998320  0.028712  0.019752 -0.046295\n",
       "1  0.051232  0.246891 -0.036035 -0.967017\n",
       "2 -0.013778 -0.961297  0.114073 -0.250412\n",
       "3 -0.023309 -0.118865 -0.992622  0.005407"
      ]
     },
     "execution_count": 8,
     "metadata": {},
     "output_type": "execute_result"
    }
   ],
   "source": [
    "component_matrix"
   ]
  }
 ],
 "metadata": {
  "kernelspec": {
   "display_name": "python308",
   "language": "python",
   "name": "py308"
  },
  "language_info": {
   "codemirror_mode": {
    "name": "ipython",
    "version": 3
   },
   "file_extension": ".py",
   "mimetype": "text/x-python",
   "name": "python",
   "nbconvert_exporter": "python",
   "pygments_lexer": "ipython3",
   "version": "3.8.18"
  }
 },
 "nbformat": 4,
 "nbformat_minor": 5
}
