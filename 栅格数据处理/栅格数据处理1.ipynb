{
 "cells": [
  {
   "cell_type": "markdown",
   "id": "91a468eb-e7dd-48e4-9f8f-45cee7b4b8fb",
   "metadata": {
    "tags": []
   },
   "source": [
    "<center><font size=6>栅格数据处理</font></center>"
   ]
  },
  {
   "cell_type": "code",
   "execution_count": 2,
   "id": "1fda5268-e819-4b51-9b8a-df67c080056d",
   "metadata": {
    "execution": {
     "iopub.execute_input": "2024-05-03T14:41:04.405633Z",
     "iopub.status.busy": "2024-05-03T14:41:04.405633Z",
     "iopub.status.idle": "2024-05-03T14:41:04.414749Z",
     "shell.execute_reply": "2024-05-03T14:41:04.413328Z",
     "shell.execute_reply.started": "2024-05-03T14:41:04.405633Z"
    },
    "tags": []
   },
   "outputs": [],
   "source": [
    "import os\n",
    "import glob\n",
    "import time\n",
    "\n",
    "from osgeo import gdal"
   ]
  },
  {
   "cell_type": "markdown",
   "id": "ec2b1581-815b-4b20-9af7-5cc44facf7b2",
   "metadata": {},
   "source": [
    "## 打开/关闭栅格数据"
   ]
  },
  {
   "cell_type": "code",
   "execution_count": 2,
   "id": "4f92f77a-49a6-488f-80a0-f8a16f90c6c9",
   "metadata": {
    "tags": []
   },
   "outputs": [
    {
     "name": "stderr",
     "output_type": "stream",
     "text": [
      "D:\\ProgramData\\Anaconda3\\envs_1\\py310\\lib\\site-packages\\osgeo\\gdal.py:287: FutureWarning: Neither gdal.UseExceptions() nor gdal.DontUseExceptions() has been explicitly called. In GDAL 4.0, exceptions will be enabled by default.\n",
      "  warnings.warn(\n"
     ]
    }
   ],
   "source": [
    "# 打开数据\n",
    "ds = gdal.Open('data/input/LT52000/LT51180382000158BJC02/LT51180382000158BJC02_B1.TIF')\n",
    "\n",
    "# 关闭数据（非必须）\n",
    "ds = None"
   ]
  },
  {
   "cell_type": "markdown",
   "id": "2c2f2294-a809-4513-b7af-12d0c104e432",
   "metadata": {},
   "source": [
    "## 获取元数据"
   ]
  },
  {
   "cell_type": "code",
   "execution_count": 3,
   "id": "fbfa14cb-50e2-42ea-a495-01004f852864",
   "metadata": {
    "tags": []
   },
   "outputs": [
    {
     "name": "stdout",
     "output_type": "stream",
     "text": [
      "{'AREA_OR_POINT': 'Point'}\n"
     ]
    }
   ],
   "source": [
    "gtif = gdal.Open('data/input/LT52000/LT51180382000158BJC02/LT51180382000158BJC02_B1.TIF')\n",
    "print(gtif.GetMetadata())"
   ]
  },
  {
   "cell_type": "code",
   "execution_count": 4,
   "id": "bc8fbf84-ea3d-47e0-9b7e-b9ce2bf04c9c",
   "metadata": {
    "tags": []
   },
   "outputs": [],
   "source": [
    "def Raster_info(file):\n",
    "    data = gdal.Open(file)\n",
    "    driver = gdal.GetDriverByName('GTiff')\n",
    "    print('Raster Driver : {d}\\n'.format(d=driver.ShortName))\n",
    "    print('影像的波段数: ', data.RasterCount)\n",
    "    img_width, img_height = data.RasterXSize, data.RasterYSize\n",
    "    print('影像的列，行数: {r}rows * {c}colums'.format(r=img_width, c=img_height))\n",
    "    print('栅格数据的空间参考：{}'.format(data.GetGeoTransform()))\n",
    "    print('投影信息：{}\\n'.format(data.GetProjection()))"
   ]
  },
  {
   "cell_type": "code",
   "execution_count": 5,
   "id": "e72ae569-8031-4850-abef-87eca08b0c58",
   "metadata": {
    "tags": []
   },
   "outputs": [
    {
     "name": "stdout",
     "output_type": "stream",
     "text": [
      "Raster Driver : GTiff\n",
      "\n",
      "影像的波段数:  1\n",
      "影像的列，行数: 7891rows * 7201colums\n",
      "栅格数据的空间参考：(277185.0, 30.0, 0.0, 3621315.0, 0.0, -30.0)\n",
      "投影信息：PROJCS[\"WGS 84 / UTM zone 51N\",GEOGCS[\"WGS 84\",DATUM[\"WGS_1984\",SPHEROID[\"WGS 84\",6378137,298.257223563,AUTHORITY[\"EPSG\",\"7030\"]],AUTHORITY[\"EPSG\",\"6326\"]],PRIMEM[\"Greenwich\",0,AUTHORITY[\"EPSG\",\"8901\"]],UNIT[\"degree\",0.0174532925199433,AUTHORITY[\"EPSG\",\"9122\"]],AUTHORITY[\"EPSG\",\"4326\"]],PROJECTION[\"Transverse_Mercator\"],PARAMETER[\"latitude_of_origin\",0],PARAMETER[\"central_meridian\",123],PARAMETER[\"scale_factor\",0.9996],PARAMETER[\"false_easting\",500000],PARAMETER[\"false_northing\",0],UNIT[\"metre\",1,AUTHORITY[\"EPSG\",\"9001\"]],AXIS[\"Easting\",EAST],AXIS[\"Northing\",NORTH],AUTHORITY[\"EPSG\",\"32651\"]]\n",
      "\n"
     ]
    }
   ],
   "source": [
    "Raster_info('data/input/LT52000/LT51180382000158BJC02/LT51180382000158BJC02_B1.TIF')"
   ]
  },
  {
   "cell_type": "markdown",
   "id": "17697873-dfb2-4687-885a-6ecb8574468d",
   "metadata": {},
   "source": [
    "## 波段融合"
   ]
  },
  {
   "cell_type": "raw",
   "id": "9ae4e650-b47c-41bf-9567-4d875e893984",
   "metadata": {
    "tags": []
   },
   "source": [
    "# 文件\n",
    "path = 'data/input/LT52000'\n",
    "file_name = os.listdir(path)\n",
    "\n",
    "# 打开数据\n",
    "ds1=gdal.Open(f'{path}/{file_name[0]}/{file_name[0]}_B1.TIF')\n",
    "ds2=gdal.Open(f'{path}/{file_name[0]}/{file_name[0]}_B2.TIF')\n",
    "ds3=gdal.Open(f'{path}/{file_name[0]}/{file_name[0]}_B3.TIF')\n",
    "ds4=gdal.Open(f'{path}/{file_name[0]}/{file_name[0]}_B4.TIF')\n",
    "ds5=gdal.Open(f'{path}/{file_name[0]}/{file_name[0]}_B4.TIF')\n",
    "ds6=gdal.Open(f'{path}/{file_name[0]}/{file_name[0]}_B4.TIF')\n",
    "ds7=gdal.Open(f'{path}/{file_name[0]}/{file_name[0]}_B4.TIF')\n",
    "\n",
    "# 获取波段\n",
    "b1=ds1.GetRasterBand(1)\n",
    "b2=ds2.GetRasterBand(1)\n",
    "b3=ds3.GetRasterBand(1)\n",
    "b4=ds4.GetRasterBand(1)\n",
    "b5=ds5.GetRasterBand(1)\n",
    "b6=ds6.GetRasterBand(1)\n",
    "b7=ds7.GetRasterBand(1)\n",
    "\n",
    "# 创建数据\n",
    "driver=gdal.GetDriverByName(\"GTiff\")\n",
    "out_ds=driver.Create(f'data/output/{file_name[0]}_merge.tif', ds1.RasterXSize, ds1.RasterYSize, 7, gdal.GDT_Byte)\n",
    "\n",
    "# 设置坐标和投影\n",
    "out_ds.SetGeoTransform(ds1.GetGeoTransform())\n",
    "out_ds.SetProjection(ds1.GetProjection())\n",
    "\n",
    "ob1=out_ds.GetRasterBand(1)\n",
    "ob2=out_ds.GetRasterBand(2)\n",
    "ob3=out_ds.GetRasterBand(3)\n",
    "ob4=out_ds.GetRasterBand(4)\n",
    "ob5=out_ds.GetRasterBand(5)\n",
    "ob6=out_ds.GetRasterBand(6)\n",
    "ob7=out_ds.GetRasterBand(7)\n",
    "\n",
    "# 写入数据\n",
    "ob1.WriteArray(b1.ReadAsArray())\n",
    "ob2.WriteArray(b2.ReadAsArray())\n",
    "ob3.WriteArray(b3.ReadAsArray())\n",
    "ob4.WriteArray(b4.ReadAsArray())\n",
    "ob5.WriteArray(b5.ReadAsArray())\n",
    "ob6.WriteArray(b6.ReadAsArray())\n",
    "ob7.WriteArray(b7.ReadAsArray())\n",
    "\n",
    "# 关闭栅格\n",
    "out_ds=None"
   ]
  },
  {
   "cell_type": "markdown",
   "id": "c8c4549c-04ba-420d-b0a6-7113d02ffcb2",
   "metadata": {},
   "source": [
    "定义波段融合函数，方便处理多幅影像"
   ]
  },
  {
   "cell_type": "code",
   "execution_count": 7,
   "id": "ff77cdc9-0227-493d-b4e8-438aa9f3d77b",
   "metadata": {
    "tags": []
   },
   "outputs": [],
   "source": [
    "def Band_fusion(in_path, file_name, out_path):\n",
    "    # 创建输出文件夹\n",
    "    if not os.path.exists(out_path):\n",
    "        os.makedirs(out_path)\n",
    "        \n",
    "    # 打开数据\n",
    "    ds1 = gdal.Open(f'{in_path}/{file_name}/{file_name}_B1.TIF')\n",
    "    ds2 = gdal.Open(f'{in_path}/{file_name}/{file_name}_B2.TIF')\n",
    "    ds3 = gdal.Open(f'{in_path}/{file_name}/{file_name}_B3.TIF')\n",
    "    ds4 = gdal.Open(f'{in_path}/{file_name}/{file_name}_B4.TIF')\n",
    "    ds5 = gdal.Open(f'{in_path}/{file_name}/{file_name}_B4.TIF')\n",
    "    ds6 = gdal.Open(f'{in_path}/{file_name}/{file_name}_B4.TIF')\n",
    "    ds7 = gdal.Open(f'{in_path}/{file_name}/{file_name}_B4.TIF')\n",
    "\n",
    "    # 获取波段\n",
    "    b1 = ds1.GetRasterBand(1)\n",
    "    b2 = ds2.GetRasterBand(1)\n",
    "    b3 = ds3.GetRasterBand(1)\n",
    "    b4 = ds4.GetRasterBand(1)\n",
    "    b5 = ds5.GetRasterBand(1)\n",
    "    b6 = ds6.GetRasterBand(1)\n",
    "    b7 = ds7.GetRasterBand(1)\n",
    "\n",
    "    # 创建数据\n",
    "    driver = gdal.GetDriverByName(\"GTiff\")\n",
    "    out_ds = driver.Create(f'{out_path}/{file_name}_merge.tif', ds1.RasterXSize, ds1.RasterYSize, 7, gdal.GDT_Byte)\n",
    "\n",
    "    # 设置坐标和投影\n",
    "    out_ds.SetGeoTransform(ds1.GetGeoTransform())\n",
    "    out_ds.SetProjection(ds1.GetProjection())\n",
    "\n",
    "    ob1 = out_ds.GetRasterBand(1)\n",
    "    ob2 = out_ds.GetRasterBand(2)\n",
    "    ob3 = out_ds.GetRasterBand(3)\n",
    "    ob4 = out_ds.GetRasterBand(4)\n",
    "    ob5 = out_ds.GetRasterBand(5)\n",
    "    ob6 = out_ds.GetRasterBand(6)\n",
    "    ob7 = out_ds.GetRasterBand(7)\n",
    "\n",
    "    # 写入数据\n",
    "    ob1.WriteArray(b1.ReadAsArray())\n",
    "    ob2.WriteArray(b2.ReadAsArray())\n",
    "    ob3.WriteArray(b3.ReadAsArray())\n",
    "    ob4.WriteArray(b4.ReadAsArray())\n",
    "    ob5.WriteArray(b5.ReadAsArray())\n",
    "    ob6.WriteArray(b6.ReadAsArray())\n",
    "    ob7.WriteArray(b7.ReadAsArray())\n",
    "\n",
    "    # 关闭栅格\n",
    "    out_ds = None "
   ]
  },
  {
   "cell_type": "markdown",
   "id": "bddcdede-9225-480d-9186-35c6da8bafde",
   "metadata": {},
   "source": [
    "调用函数融合影像"
   ]
  },
  {
   "cell_type": "code",
   "execution_count": 8,
   "id": "6a40fead-bbff-49bf-8119-1999c20d40b3",
   "metadata": {
    "tags": []
   },
   "outputs": [],
   "source": [
    "path = 'data/input/LT52000'  # 原始影像路径\n",
    "path1 = 'data/output/LT52000'  # 波段融合后影像路径\n",
    "file_name = os.listdir(path)  # 获取影像名\n",
    "for file in file_name:\n",
    "    Band_fusion(path, file, path1)  # 调用函数融合波段"
   ]
  },
  {
   "cell_type": "markdown",
   "id": "762f8ca1-6e06-44f3-9de1-a1d090be9db2",
   "metadata": {},
   "source": [
    "## 影像拼接"
   ]
  },
  {
   "cell_type": "raw",
   "id": "531594ca-7600-4ca8-b3bc-68431e2b9c0d",
   "metadata": {},
   "source": [
    "Usage: gdal_merge.py [-o out_filename] [-of out_format] [-co NAME=VALUE]*\n",
    "                     [-ps pixelsize_x pixelsize_y] [-tap] [-separate] [-q] [-v] [-pct]\n",
    "                     [-ul_lr ulx uly lrx lry] [-init \"value [value...]\"]\n",
    "                     [-n nodata_value] [-a_nodata output_nodata_value]\n",
    "                     [-ot datatype] [-createonly] input_files\n",
    "                     [--help-general]\n",
    "主要参数解释如下：\n",
    "-o out_filename ：输出文件\n",
    "-of out_format：输出文件格式，默认GeoTiff格式\n",
    "-ps pixelsize_x pixelsize_y：输出图像像元大小，如果不指定，以第一个输入图像为准\n",
    "-ul_lr ulx uly lrx lry：输出文件范围，如果不指定，将会以所有的输入图像的范围并集为输出文件范围。\n",
    "-n nodata_value：指定 nodata 值，在镶嵌操作的时候会忽略该值。\n",
    "-ot datatype：指定输出数据类型，如 Byte，Int16 等。\n",
    "-init \"value(s)\"：指定输出文件的初始值。如创建一个三个波段初始值都为255的图像，gdal_merge.py -init 255 -o out.tif in1.tif in2.tif"
   ]
  },
  {
   "cell_type": "code",
   "execution_count": 77,
   "id": "8ea6c3ea-4505-40f5-bb95-c67bfeb238e6",
   "metadata": {
    "tags": []
   },
   "outputs": [
    {
     "data": {
      "text/plain": [
       "['E:\\\\jupyterlab\\\\data\\\\output\\\\LT52000\\\\LT51180382000158BJC02_merge.tif',\n",
       " 'E:\\\\jupyterlab\\\\data\\\\output\\\\LT52000\\\\LT51180392000158HAJ03_merge.tif',\n",
       " 'E:\\\\jupyterlab\\\\data\\\\output\\\\LT52000\\\\LT51190382000165BJC00_merge.tif',\n",
       " 'E:\\\\jupyterlab\\\\data\\\\output\\\\LT52000\\\\LT51190392000165BJC00_merge.tif']"
      ]
     },
     "execution_count": 77,
     "metadata": {},
     "output_type": "execute_result"
    }
   ],
   "source": [
    "files_to_mosaic = glob.glob('data/output/LT52000/*.tif')\n",
    "files_to_mosaic = [path+\"\\\\\"+files[-31:] for files in files_to_mosaic]\n",
    "files_string = \" \".join(files_to_mosaic) # 生成input_files\n",
    "files_to_mosaic"
   ]
  },
  {
   "cell_type": "code",
   "execution_count": 4,
   "id": "a24ef326-35ac-4a59-a72a-4ec6cb2b372f",
   "metadata": {
    "tags": []
   },
   "outputs": [],
   "source": [
    "%run D:\\ProgramData\\Anaconda3\\envs_1\\py310\\Scripts\\gdal_merge.py -o E:\\jupyterlab\\data\\output\\Mosaic_LT5.tif -n 0 -of GTiff E:\\jupyterlab\\data\\output\\LT52000\\LT51180382000158BJC02_merge.tif E:\\jupyterlab\\data\\output\\LT52000\\LT51180392000158HAJ03_merge.tif E:\\jupyterlab\\data\\output\\LT52000\\LT51190382000165BJC00_merge.tif"
   ]
  },
  {
   "cell_type": "code",
   "execution_count": 2,
   "id": "f5b88b84-4ec0-4f6a-bfb9-af31031e81ed",
   "metadata": {
    "tags": []
   },
   "outputs": [],
   "source": [
    "%run D:\\ProgramData\\Anaconda3\\envs_1\\py310\\Scripts\\gdal_merge.py -o E:\\jupyterlab\\data\\output\\Mosaic_LT5_1.tif -n 0 -of GTiff E:\\jupyterlab\\data\\output\\LT52000\\LT51180392000158HAJ03_merge.tif E:\\jupyterlab\\data\\output\\LT52000\\LT51190392000165BJC00_merge.tif"
   ]
  },
  {
   "cell_type": "code",
   "execution_count": 6,
   "id": "c9294e86-01f7-4b78-82f9-fc6526d59281",
   "metadata": {
    "tags": []
   },
   "outputs": [],
   "source": [
    "%run D:\\ProgramData\\Anaconda3\\envs_1\\py310\\Scripts\\gdal_merge.py -o E:\\jupyterlab\\data\\output\\Mosaic_LT5_3.tif -n 0 -of GTiff E:\\jupyterlab\\data\\output\\LT52000\\LT51180382000158BJC02_merge.tif E:\\jupyterlab\\data\\output\\LT52000\\LT51180392000158HAJ03_merge.tif E:\\jupyterlab\\data\\output\\LT52000\\LT51190382000165BJC00_merge.tif"
   ]
  },
  {
   "cell_type": "code",
   "execution_count": null,
   "id": "ce89214c",
   "metadata": {},
   "outputs": [],
   "source": [
    "import psycopg2\n",
    "from psycopg2.extensions import ISOLATION_LEVEL_AUTOCOMMIT\n",
    "\n",
    "db_connection = {\n",
    "    \"host\": \"localhost\",\n",
    "    \"port\": \"5432\",\n",
    "    \"user\": \"postgres\",\n",
    "    \"password\": \"123\",\n",
    "    \"dbname\": \"osm\"\n",
    "}\n",
    "conn = psycopg2.connect(**db_connection) # 连接数据库\n",
    "conn.set_isolation_level(ISOLATION_LEVEL_AUTOCOMMIT) #  设置自动提交事务\n",
    "cursor = conn.cursor() #  创建游标\n",
    "\n",
    "# 批量修改表名称\n",
    "try:\n",
    "    cursor.execute(\"SELECT relname FROM pg_class WHERE relkind = 'r' AND relname != '^(pg_|sql_|spatial_)';\")\n",
    "    for i in cursor.fetchall():\n",
    "        cursor.execute(f'ALTER TABLE \"{i[0]}\" RENAME TO \"2022_{i[0]}\";')\n",
    "        print(f'{i[0]}完成')\n",
    "except:\n",
    "    print('失败')"
   ]
  }
 ],
 "metadata": {
  "kernelspec": {
   "display_name": "torch310",
   "language": "python",
   "name": "pytorch"
  },
  "language_info": {
   "codemirror_mode": {
    "name": "ipython",
    "version": 3
   },
   "file_extension": ".py",
   "mimetype": "text/x-python",
   "name": "python",
   "nbconvert_exporter": "python",
   "pygments_lexer": "ipython3",
   "version": "3.10.14"
  }
 },
 "nbformat": 4,
 "nbformat_minor": 5
}
